{
 "cells": [
  {
   "cell_type": "code",
   "execution_count": 1,
   "id": "17e61fbb",
   "metadata": {},
   "outputs": [],
   "source": [
    "import pandas as pd\n",
    "import numpy as np\n",
    "import matplotlib.pyplot as plt"
   ]
  },
  {
   "cell_type": "code",
   "execution_count": 2,
   "id": "fc43b59a",
   "metadata": {},
   "outputs": [],
   "source": [
    "import h5py\n",
    "filename=\"SVHN_single_grey1.h5\"\n",
    "h5=h5py.File(filename,'r')"
   ]
  },
  {
   "cell_type": "code",
   "execution_count": 3,
   "id": "e5c6871c",
   "metadata": {},
   "outputs": [
    {
     "data": {
      "text/plain": [
       "<HDF5 file \"SVHN_single_grey1.h5\" (mode r)>"
      ]
     },
     "execution_count": 3,
     "metadata": {},
     "output_type": "execute_result"
    }
   ],
   "source": [
    "h5"
   ]
  },
  {
   "cell_type": "code",
   "execution_count": 4,
   "id": "a2f91cad",
   "metadata": {},
   "outputs": [],
   "source": [
    "h5.keys()\n",
    "x_test=np.array(h5['X_test'])\n",
    "x_train=np.array(h5['X_train'])\n",
    "y_test=np.array(h5['y_test'])\n",
    "y_train=np.array(h5['y_train'])"
   ]
  },
  {
   "cell_type": "code",
   "execution_count": 5,
   "id": "30288f88",
   "metadata": {},
   "outputs": [
    {
     "data": {
      "text/plain": [
       "((array([[[ 33.0704,  30.2601,  26.852 , ...,  71.4471,  58.2204,\n",
       "            42.9939],\n",
       "          [ 25.2283,  25.5533,  29.9765, ..., 113.0209, 103.3639,\n",
       "            84.2949],\n",
       "          [ 26.2775,  22.6137,  40.4763, ..., 113.3028, 121.775 ,\n",
       "           115.4228],\n",
       "          ...,\n",
       "          [ 28.5502,  36.212 ,  45.0801, ...,  24.1359,  25.0927,\n",
       "            26.0603],\n",
       "          [ 38.4352,  26.4733,  23.2717, ...,  28.1094,  29.4683,\n",
       "            30.0661],\n",
       "          [ 50.2984,  26.0773,  24.0389, ...,  49.6682,  50.853 ,\n",
       "            53.0377]],\n",
       "  \n",
       "         [[ 86.9591,  87.0685,  88.3735, ...,  91.8014,  89.7477,\n",
       "            92.5302],\n",
       "          [ 86.688 ,  86.9114,  87.4337, ...,  90.7306,  87.204 ,\n",
       "            88.5629],\n",
       "          [ 85.9654,  85.8145,  85.9239, ...,  63.8626,  59.8199,\n",
       "            54.8805],\n",
       "          ...,\n",
       "          [ 90.2236,  91.0448,  93.4637, ...,  55.3535,  48.5822,\n",
       "            44.0557],\n",
       "          [ 90.6427,  90.4039,  90.937 , ...,  78.2696,  77.4977,\n",
       "            74.27  ],\n",
       "          [ 88.0236,  88.1977,  86.6709, ...,  75.2206,  76.6396,\n",
       "            79.2865]],\n",
       "  \n",
       "         [[123.125 , 125.8581, 122.0757, ..., 123.5747, 124.1186,\n",
       "           123.3144],\n",
       "          [121.1683, 124.1294, 117.4613, ..., 115.6078, 119.5751,\n",
       "           122.8306],\n",
       "          [124.6132, 121.1019, 109.6623, ..., 111.1783, 119.7923,\n",
       "           124.7595],\n",
       "          ...,\n",
       "          [135.1391, 127.3679, 117.754 , ...,  95.0919, 105.5917,\n",
       "           114.9283],\n",
       "          [134.8402, 131.9545, 124.0415, ...,  93.864 , 105.3036,\n",
       "           115.1132],\n",
       "          [134.8402, 132.0685, 128.34  , ...,  93.9349, 104.7875,\n",
       "           113.8252]],\n",
       "  \n",
       "         ...,\n",
       "  \n",
       "         [[154.094 , 155.8057, 156.8164, ..., 138.9322, 136.1605,\n",
       "           133.0468],\n",
       "          [145.725 , 147.4367, 150.0343, ..., 145.4477, 140.9751,\n",
       "           136.9647],\n",
       "          [144.9531, 144.8391, 143.85  , ..., 143.263 , 143.263 ,\n",
       "           146.4799],\n",
       "          ...,\n",
       "          [150.2237, 150.8107, 150.1097, ...,  96.8207,  96.9239,\n",
       "            97.2228],\n",
       "          [151.6365, 152.2235, 151.1096, ..., 120.8892, 121.8891,\n",
       "           123.1771],\n",
       "          [146.5769, 147.9358, 147.9358, ..., 135.1328, 136.6596,\n",
       "           137.6595]],\n",
       "  \n",
       "         [[207.4954, 208.4953, 213.0218, ..., 210.1361, 208.4244,\n",
       "           203.4357],\n",
       "          [204.4957, 207.6094, 213.6088, ..., 209.4243, 207.8374,\n",
       "           202.5498],\n",
       "          [204.3216, 208.3212, 212.9078, ..., 209.0222, 207.1364,\n",
       "           201.4359],\n",
       "          ...,\n",
       "          [199.1372, 202.083 , 207.4523, ..., 212.8477, 211.8478,\n",
       "           209.5491],\n",
       "          [201.137 , 201.61  , 205.2676, ..., 213.9616, 213.5487,\n",
       "           209.1362],\n",
       "          [202.9088, 202.9088, 206.9084, ..., 214.1357, 212.1359,\n",
       "           209.1362]],\n",
       "  \n",
       "         [[ 95.0784,  96.0783, 100.0779, ..., 122.7551, 122.8691,\n",
       "           122.8691],\n",
       "          [ 95.0784,  96.0783, 100.0779, ..., 122.8691, 122.9831,\n",
       "           122.9831],\n",
       "          [ 95.0784,  96.0783, 101.0778, ..., 126.5698, 126.9827,\n",
       "           126.9827],\n",
       "          ...,\n",
       "          [ 98.833 ,  99.8329, 103.8325, ..., 129.8962, 131.896 ,\n",
       "           131.896 ],\n",
       "          [ 98.833 ,  99.8329, 103.8325, ..., 136.0805, 138.1943,\n",
       "           138.1943],\n",
       "          [ 98.833 ,  99.8329, 103.8325, ..., 138.0803, 140.493 ,\n",
       "           140.493 ]]], dtype=float32),\n",
       "  array([2, 6, 7, ..., 7, 0, 4], dtype=uint8)),\n",
       " (array([[[ 40.558 ,  46.7917,  48.9764, ..., 112.1153, 112.9904,\n",
       "           112.1646],\n",
       "          [ 39.4379,  44.2911,  47.1768, ..., 111.0122, 110.9475,\n",
       "           109.9368],\n",
       "          [ 38.4488,  43.6394,  48.7098, ..., 109.8921, 109.9414,\n",
       "           109.1048],\n",
       "          ...,\n",
       "          [ 34.9869,  35.4707,  39.6676, ..., 109.211 , 109.9074,\n",
       "           112.7346],\n",
       "          [ 35.6602,  35.5462,  40.3193, ..., 110.9998, 112.049 ,\n",
       "           114.3431],\n",
       "          [ 36.1871,  35.4214,  40.6998, ..., 110.0169, 111.2017,\n",
       "           114.1906]],\n",
       "  \n",
       "         [[115.1609, 114.161 , 113.1611, ..., 112.0302, 112.6711,\n",
       "           112.7851],\n",
       "          [110.5743, 110.2754, 108.9766, ..., 106.1448, 106.7857,\n",
       "           107.0137],\n",
       "          [102.8031, 102.5042, 101.7924, ...,  95.776 ,  95.531 ,\n",
       "            95.645 ],\n",
       "          ...,\n",
       "          [169.8457, 170.6176, 167.8028, ...,  45.1708,  55.6967,\n",
       "            62.81  ],\n",
       "          [157.7329, 157.6189, 153.8042, ...,  42.9538,  50.1811,\n",
       "            56.1805],\n",
       "          [150.3207, 149.2068, 144.8051, ...,  42.1388,  48.2522,\n",
       "            53.2517]],\n",
       "  \n",
       "         [[133.255 , 134.7279, 136.3148, ..., 103.7248, 100.8391,\n",
       "           100.6111],\n",
       "          [134.2549, 135.8418, 138.3146, ..., 117.1965, 114.1968,\n",
       "           114.0828],\n",
       "          [136.2547, 135.9558, 137.4287, ..., 126.8535, 123.7398,\n",
       "           123.4409],\n",
       "          ...,\n",
       "          [135.4136, 133.4847, 131.2569, ..., 129.0552, 131.642 ,\n",
       "           133.4569],\n",
       "          [129.3972, 128.7671, 127.8381, ..., 128.5822, 129.2832,\n",
       "           129.9842],\n",
       "          [119.0823, 120.8649, 123.0496, ..., 128.1801, 127.8103,\n",
       "           128.2124]],\n",
       "  \n",
       "         ...,\n",
       "  \n",
       "         [[166.1898, 164.7169, 162.8311, ...,  92.9414,  97.3431,\n",
       "            97.9301],\n",
       "          [164.6029, 163.717 , 162.1301, ...,  93.0554,  97.3431,\n",
       "            97.0442],\n",
       "          [161.9021, 161.9021, 161.1302, ...,  94.1693,  97.5711,\n",
       "            97.1582],\n",
       "          ...,\n",
       "          [ 75.0679,  84.8219,  96.8638, ..., 163.9019, 163.7879,\n",
       "           163.6739],\n",
       "          [ 81.0673,  87.2947,  93.935 , ..., 163.016 , 162.788 ,\n",
       "           162.674 ],\n",
       "          [ 86.7247,  89.4794,  92.8211, ..., 162.902 , 162.788 ,\n",
       "           162.674 ]],\n",
       "  \n",
       "         [[137.5778, 136.6919, 134.8061, ..., 111.1397, 109.314 ,\n",
       "           108.0152],\n",
       "          [131.5784, 130.6925, 127.9208, ..., 107.1401, 105.5424,\n",
       "           104.2436],\n",
       "          [119.8076, 118.8077, 115.0361, ..., 101.2547,  99.771 ,\n",
       "            98.8851],\n",
       "          ...,\n",
       "          [130.0238, 129.0239, 125.1383, ..., 141.3755, 141.3755,\n",
       "           140.3756],\n",
       "          [134.0234, 134.0234, 133.1375, ..., 144.4892, 143.3753,\n",
       "           142.3754],\n",
       "          [136.0232, 137.0231, 138.137 , ..., 144.7881, 142.7883,\n",
       "           141.7884]],\n",
       "  \n",
       "         [[ 30.182 ,  30.182 ,  30.182 , ...,  41.1208,  42.1207,\n",
       "            42.8217],\n",
       "          [ 30.182 ,  30.182 ,  29.595 , ...,  40.1209,  41.1208,\n",
       "            41.8218],\n",
       "          [ 29.8939,  29.8939,  28.894 , ...,  39.121 ,  40.1209,\n",
       "            40.1209],\n",
       "          ...,\n",
       "          [ 31.9431,  31.9431,  31.9431, ...,  51.4958,  50.9088,\n",
       "            49.9089],\n",
       "          [ 31.1712,  31.1712,  32.0571, ...,  40.2627,  39.9638,\n",
       "            39.2628],\n",
       "          [ 31.1712,  31.1712,  32.1711, ...,  35.0891,  34.6762,\n",
       "            34.0892]]], dtype=float32),\n",
       "  array([1, 7, 2, ..., 7, 9, 2], dtype=uint8)))"
      ]
     },
     "execution_count": 5,
     "metadata": {},
     "output_type": "execute_result"
    }
   ],
   "source": [
    "(x_train,y_train),(x_test,y_test)"
   ]
  },
  {
   "cell_type": "code",
   "execution_count": 6,
   "id": "1d1cfd87",
   "metadata": {},
   "outputs": [
    {
     "data": {
      "text/plain": [
       "(42000, 32, 32)"
      ]
     },
     "execution_count": 6,
     "metadata": {},
     "output_type": "execute_result"
    }
   ],
   "source": [
    "x_train.shape"
   ]
  },
  {
   "cell_type": "code",
   "execution_count": 7,
   "id": "0f56d02b",
   "metadata": {},
   "outputs": [
    {
     "data": {
      "text/plain": [
       "(18000, 32, 32)"
      ]
     },
     "execution_count": 7,
     "metadata": {},
     "output_type": "execute_result"
    }
   ],
   "source": [
    "x_test.shape"
   ]
  },
  {
   "cell_type": "code",
   "execution_count": 8,
   "id": "fb775807",
   "metadata": {},
   "outputs": [
    {
     "data": {
      "text/plain": [
       "<matplotlib.image.AxesImage at 0x19abe941550>"
      ]
     },
     "execution_count": 8,
     "metadata": {},
     "output_type": "execute_result"
    },
    {
     "data": {
      "image/png": "[encoded data removed]",
      "text/plain": [
       "<Figure size 288x288 with 1 Axes>"
      ]
     },
     "metadata": {
      "needs_background": "light"
     },
     "output_type": "display_data"
    }
   ],
   "source": [
    "plt.matshow(x_train[2])"
   ]
  },
  {
   "cell_type": "code",
   "execution_count": 9,
   "id": "fbcdc6c9",
   "metadata": {},
   "outputs": [
    {
     "data": {
      "text/plain": [
       "7"
      ]
     },
     "execution_count": 9,
     "metadata": {},
     "output_type": "execute_result"
    }
   ],
   "source": [
    "y_train[2]"
   ]
  },
  {
   "cell_type": "code",
   "execution_count": 10,
   "id": "56f1b1ca",
   "metadata": {},
   "outputs": [],
   "source": [
    "x_train=x_train/255\n",
    "x_test=x_test/255"
   ]
  },
  {
   "cell_type": "code",
   "execution_count": 11,
   "id": "0cd5e797",
   "metadata": {},
   "outputs": [],
   "source": [
    "from tensorflow.keras.models import Sequential\n",
    "from tensorflow.keras.layers import Dense,Activation,Flatten"
   ]
  },
  {
   "cell_type": "code",
   "execution_count": 12,
   "id": "5ff7f7ef",
   "metadata": {},
   "outputs": [],
   "source": [
    "model=Sequential()"
   ]
  },
  {
   "cell_type": "code",
   "execution_count": 13,
   "id": "a82b5059",
   "metadata": {},
   "outputs": [],
   "source": [
    "model.add(Flatten(input_shape=[32,32]))\n",
    "model.add(Dense(200,activation='relu'))\n",
    "model.add(Dense(50,activation='softplus'))\n",
    "model.add(Dense(50,activation='softmax'))\n"
   ]
  },
  {
   "cell_type": "code",
   "execution_count": 14,
   "id": "f3da70c9",
   "metadata": {},
   "outputs": [
    {
     "name": "stdout",
     "output_type": "stream",
     "text": [
      "Model: \"sequential\"\n",
      "_________________________________________________________________\n",
      " Layer (type)                Output Shape              Param #   \n",
      "=================================================================\n",
      " flatten (Flatten)           (None, 1024)              0         \n",
      "                                                                 \n",
      " dense (Dense)               (None, 200)               205000    \n",
      "                                                                 \n",
      " dense_1 (Dense)             (None, 50)                10050     \n",
      "                                                                 \n",
      " dense_2 (Dense)             (None, 50)                2550      \n",
      "                                                                 \n",
      "=================================================================\n",
      "Total params: 217,600\n",
      "Trainable params: 217,600\n",
      "Non-trainable params: 0\n",
      "_________________________________________________________________\n"
     ]
    }
   ],
   "source": [
    "model.summary()"
   ]
  },
  {
   "cell_type": "code",
   "execution_count": 15,
   "id": "9004bc79",
   "metadata": {},
   "outputs": [],
   "source": [
    "model.compile(loss=\"sparse_categorical_crossentropy\",optimizer=\"adam\",metrics=\"accuracy\")"
   ]
  },
  {
   "cell_type": "code",
   "execution_count": 16,
   "id": "c7b47934",
   "metadata": {},
   "outputs": [
    {
     "name": "stdout",
     "output_type": "stream",
     "text": [
      "Epoch 1/10\n",
      "1313/1313 [==============================] - 5s 3ms/step - loss: 2.3037 - accuracy: 0.1286\n",
      "Epoch 2/10\n",
      "1313/1313 [==============================] - 5s 4ms/step - loss: 1.6341 - accuracy: 0.4470\n",
      "Epoch 3/10\n",
      "1313/1313 [==============================] - 5s 3ms/step - loss: 1.2532 - accuracy: 0.6080\n",
      "Epoch 4/10\n",
      "1313/1313 [==============================] - 4s 3ms/step - loss: 1.1305 - accuracy: 0.6515\n",
      "Epoch 5/10\n",
      "1313/1313 [==============================] - 5s 4ms/step - loss: 1.0515 - accuracy: 0.6796\n",
      "Epoch 6/10\n",
      "1313/1313 [==============================] - 6s 4ms/step - loss: 0.9946 - accuracy: 0.6975\n",
      "Epoch 7/10\n",
      "1313/1313 [==============================] - 5s 4ms/step - loss: 0.9454 - accuracy: 0.7138\n",
      "Epoch 8/10\n",
      "1313/1313 [==============================] - 5s 4ms/step - loss: 0.9142 - accuracy: 0.7233\n",
      "Epoch 9/10\n",
      "1313/1313 [==============================] - 5s 4ms/step - loss: 0.8826 - accuracy: 0.7331\n",
      "Epoch 10/10\n",
      "1313/1313 [==============================] - 5s 4ms/step - loss: 0.8610 - accuracy: 0.7380\n"
     ]
    },
    {
     "data": {
      "text/plain": [
       "<keras.callbacks.History at 0x19ae7857a00>"
      ]
     },
     "execution_count": 16,
     "metadata": {},
     "output_type": "execute_result"
    }
   ],
   "source": [
    "model.fit(x_train,y_train,epochs=10)"
   ]
  },
  {
   "cell_type": "code",
   "execution_count": 17,
   "id": "cd5bf09a",
   "metadata": {},
   "outputs": [],
   "source": [
    "y_predict=model.predict(x_test)"
   ]
  },
  {
   "cell_type": "code",
   "execution_count": 18,
   "id": "a274273e",
   "metadata": {},
   "outputs": [
    {
     "data": {
      "text/plain": [
       "<matplotlib.image.AxesImage at 0x19ae9d4a1f0>"
      ]
     },
     "execution_count": 18,
     "metadata": {},
     "output_type": "execute_result"
    },
    {
     "data": {
      "image/png": "[encoded data removed]",
      "text/plain": [
       "<Figure size 288x288 with 1 Axes>"
      ]
     },
     "metadata": {
      "needs_background": "light"
     },
     "output_type": "display_data"
    }
   ],
   "source": [
    "plt.matshow(x_test[2])"
   ]
  },
  {
   "cell_type": "code",
   "execution_count": 19,
   "id": "9520bf4b",
   "metadata": {},
   "outputs": [
    {
     "data": {
      "text/plain": [
       "array([7.6421355e-05, 1.3681689e-04, 9.7509050e-01, 6.5133427e-03,\n",
       "       1.5349939e-04, 1.8438470e-04, 2.5384664e-04, 1.6803788e-03,\n",
       "       1.4723925e-02, 1.1869430e-03, 5.5928994e-12, 2.0749624e-13,\n",
       "       1.5548865e-14, 1.2649009e-13, 2.7661982e-13, 4.7817531e-12,\n",
       "       9.0843633e-14, 2.8173045e-13, 3.0069496e-13, 3.8736406e-14,\n",
       "       8.4968848e-15, 3.0625651e-15, 1.1462965e-13, 1.3632902e-13,\n",
       "       1.4445632e-15, 5.3038905e-13, 8.7335521e-13, 4.8655034e-15,\n",
       "       1.8638470e-14, 1.0968089e-15, 1.3482028e-15, 3.0207171e-13,\n",
       "       2.6870707e-13, 9.3245214e-13, 1.5001799e-13, 3.1371657e-15,\n",
       "       3.1934809e-15, 1.2994736e-14, 1.6704964e-14, 9.8068645e-15,\n",
       "       7.5336195e-13, 4.5229332e-15, 5.4302564e-14, 4.0179796e-15,\n",
       "       3.9201542e-14, 9.3191190e-16, 5.8596333e-15, 1.1704858e-15,\n",
       "       3.1136460e-13, 5.9726811e-13], dtype=float32)"
      ]
     },
     "execution_count": 19,
     "metadata": {},
     "output_type": "execute_result"
    }
   ],
   "source": [
    "y_predict[2]"
   ]
  },
  {
   "cell_type": "code",
   "execution_count": 20,
   "id": "f90e97e3",
   "metadata": {},
   "outputs": [
    {
     "data": {
      "text/plain": [
       "2"
      ]
     },
     "execution_count": 20,
     "metadata": {},
     "output_type": "execute_result"
    }
   ],
   "source": [
    "np.argmax(y_predict[2])"
   ]
  },
  {
   "cell_type": "code",
   "execution_count": 21,
   "id": "d52cd346",
   "metadata": {},
   "outputs": [
    {
     "name": "stdout",
     "output_type": "stream",
     "text": [
      "563/563 [==============================] - 2s 3ms/step - loss: 0.9733 - accuracy: 0.7078\n"
     ]
    },
    {
     "data": {
      "text/plain": [
       "[0.9733134508132935, 0.7078333497047424]"
      ]
     },
     "execution_count": 21,
     "metadata": {},
     "output_type": "execute_result"
    }
   ],
   "source": [
    "model.evaluate(x_test,y_test)"
   ]
  },
  {
   "cell_type": "code",
   "execution_count": 22,
   "id": "d0f35d26",
   "metadata": {},
   "outputs": [],
   "source": [
    "y_pred_labels=[np.argmax(i) for i in y_predict]"
   ]
  },
  {
   "cell_type": "code",
   "execution_count": 23,
   "id": "c85c5475",
   "metadata": {},
   "outputs": [],
   "source": [
    "from sklearn.metrics import confusion_matrix\n",
    "conf_mat = confusion_matrix(y_test,y_pred_labels)"
   ]
  },
  {
   "cell_type": "code",
   "execution_count": 24,
   "id": "29a01ab0",
   "metadata": {},
   "outputs": [
    {
     "name": "stdout",
     "output_type": "stream",
     "text": [
      "[[1385   21    4   55   22   15   75   19  113  105]\n",
      " [  66 1200   10  136   47   20   39   99  144   67]\n",
      " [  33   24 1218   87   20   30   25  152  118   96]\n",
      " [  50   28   28 1232   14  119   16   49  119   64]\n",
      " [  49   32   19   36 1261   28  143   13  165   66]\n",
      " [  77   16   13  139   18 1136   70   27  197   75]\n",
      " [ 155   22    7   34   41   46 1200   16  274   37]\n",
      " [  53   29   47   69   14   20   29 1406   65   76]\n",
      " [ 102   23   11   48   17   30   71   17 1403   90]\n",
      " [ 124   35    6   86   21   38   31   46  117 1300]]\n"
     ]
    }
   ],
   "source": [
    "print(conf_mat)\n",
    "\n"
   ]
  },
  {
   "cell_type": "code",
   "execution_count": 25,
   "id": "3af931b5",
   "metadata": {},
   "outputs": [
    {
     "data": {
      "text/plain": [
       "Text(0.5, 42.0, 'predicted labels')"
      ]
     },
     "execution_count": 25,
     "metadata": {},
     "output_type": "execute_result"
    },
    {
     "data": {
      "image/png": "[encoded data removed]",
      "text/plain": [
       "<Figure size 1080x504 with 2 Axes>"
      ]
     },
     "metadata": {
      "needs_background": "light"
     },
     "output_type": "display_data"
    }
   ],
   "source": [
    "import seaborn as sns\n",
    "plt.figure(figsize=(15,7))\n",
    "sns.heatmap(conf_mat,annot=True,fmt='d',cmap='Blues')\n",
    "plt.ylabel('True labels')\n",
    "plt.xlabel('predicted labels')"
   ]
  },
  {
   "cell_type": "code",
   "execution_count": null,
   "id": "dc28b1fb",
   "metadata": {},
   "outputs": [],
   "source": [
    "\n",
    "\n",
    "\n"
   ]
  }
 ],
 "metadata": {
  "kernelspec": {
   "display_name": "Python 3",
   "language": "python",
   "name": "python3"
  },
  "language_info": {
   "codemirror_mode": {
    "name": "ipython",
    "version": 3
   },
   "file_extension": ".py",
   "mimetype": "text/x-python",
   "name": "python",
   "nbconvert_exporter": "python",
   "pygments_lexer": "ipython3",
   "version": "3.8.8"
  }
 },
 "nbformat": 4,
 "nbformat_minor": 5
}
